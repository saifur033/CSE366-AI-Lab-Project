{
  "nbformat": 4,
  "nbformat_minor": 0,
  "metadata": {
    "colab": {
      "private_outputs": true,
      "provenance": [],
      "gpuType": "V28",
      "cell_execution_strategy": "setup"
    },
    "kernelspec": {
      "name": "python3",
      "display_name": "Python 3"
    },
    "language_info": {
      "name": "python"
    },
    "accelerator": "TPU"
  },
  "cells": [
    {
      "cell_type": "code",
      "execution_count": null,
      "metadata": {
        "id": "DWymyECEyO3a"
      },
      "outputs": [],
      "source": [
        "import matplotlib.pyplot as plt\n",
        "import pandas as pd\n",
        "\n",
        "# Thresholds and parameters\n",
        "AVERAGE_PRICE = 600  # Average price of the smartphone\n",
        "DISCOUNT_THRESHOLD = 0.2  # 20% discount\n",
        "CRITICAL_STOCK_LEVEL = 10  # Critical stock level\n",
        "DEFAULT_ORDER = 10  # Minimum order when stock is critical\n",
        "ADDITIONAL_ORDER = 15  # Order when a discount is detected\n",
        "\n",
        "# Sample data (price and stock levels over time)\n",
        "data = [\n",
        "    {\"day\": 1, \"price\": 600, \"stock\": 25},\n",
        "    {\"day\": 2, \"price\": 480, \"stock\": 20},\n",
        "    {\"day\": 3, \"price\": 550, \"stock\": 8},\n",
        "    {\"day\": 4, \"price\": 450, \"stock\": 30},\n",
        "    {\"day\": 5, \"price\": 620, \"stock\": 12},\n",
        "]\n",
        "\n",
        "# Convert to DataFrame for easier handling\n",
        "df = pd.DataFrame(data)\n",
        "\n",
        "# Decision process\n",
        "orders = []\n",
        "for index, row in df.iterrows():\n",
        "    price = row[\"price\"]\n",
        "    stock = row[\"stock\"]\n",
        "\n",
        "    if price < (1 - DISCOUNT_THRESHOLD) * AVERAGE_PRICE:\n",
        "        # Discount detected\n",
        "        if stock > CRITICAL_STOCK_LEVEL:\n",
        "            tobuy = ADDITIONAL_ORDER\n",
        "        else:\n",
        "            tobuy = DEFAULT_ORDER\n",
        "    elif stock < CRITICAL_STOCK_LEVEL:\n",
        "        # Stock critically low\n",
        "        tobuy = DEFAULT_ORDER\n",
        "    else:\n",
        "        # No action\n",
        "        tobuy = 0\n",
        "\n",
        "    orders.append(tobuy)\n",
        "\n",
        "# Add decisions to the DataFrame\n",
        "df[\"order\"] = orders\n",
        "\n",
        "# Print the DataFrame\n",
        "print(df)\n",
        "\n",
        "# Visualization\n",
        "plt.figure(figsize=(10, 6))\n",
        "plt.plot(df[\"day\"], df[\"price\"], label=\"Price (BDT)\", marker=\"o\")\n",
        "plt.plot(df[\"day\"], df[\"stock\"], label=\"Stock Level\", marker=\"s\")\n",
        "plt.bar(df[\"day\"], df[\"order\"], label=\"Order Quantity\", color=\"orange\", alpha=0.5)\n",
        "\n",
        "plt.title(\"Smartphone Inventory Management\")\n",
        "plt.xlabel(\"Day\")\n",
        "plt.ylabel(\"Value\")\n",
        "plt.legend()\n",
        "plt.grid()\n",
        "plt.show()\n"
      ]
    }
  ]
}